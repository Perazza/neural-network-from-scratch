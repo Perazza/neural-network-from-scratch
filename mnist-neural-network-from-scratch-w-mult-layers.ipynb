{
 "cells": [
  {
   "cell_type": "code",
   "execution_count": 1,
   "id": "a78e7f16",
   "metadata": {
    "_cell_guid": "b1076dfc-b9ad-4769-8c92-a6c4dae69d19",
    "_uuid": "8f2839f25d086af736a60e9eeb907d3b93b6e0e5",
    "execution": {
     "iopub.execute_input": "2022-06-13T17:01:39.909562Z",
     "iopub.status.busy": "2022-06-13T17:01:39.908956Z",
     "iopub.status.idle": "2022-06-13T17:01:39.924263Z",
     "shell.execute_reply": "2022-06-13T17:01:39.922696Z"
    },
    "papermill": {
     "duration": 0.031025,
     "end_time": "2022-06-13T17:01:39.926640",
     "exception": false,
     "start_time": "2022-06-13T17:01:39.895615",
     "status": "completed"
    },
    "tags": []
   },
   "outputs": [
    {
     "name": "stdout",
     "output_type": "stream",
     "text": [
      "/kaggle/input/digit-recognizer/sample_submission.csv\n",
      "/kaggle/input/digit-recognizer/train.csv\n",
      "/kaggle/input/digit-recognizer/test.csv\n"
     ]
    }
   ],
   "source": [
    "# This Python 3 environment comes with many helpful analytics libraries installed\n",
    "# It is defined by the kaggle/python Docker image: https://github.com/kaggle/docker-python\n",
    "# For example, here's several helpful packages to load\n",
    "\n",
    "import numpy as np # linear algebra\n",
    "import pandas as pd # data processing, CSV file I/O (e.g. pd.read_csv)\n",
    "\n",
    "# Input data files are available in the read-only \"../input/\" directory\n",
    "# For example, running this (by clicking run or pressing Shift+Enter) will list all files under the input directory\n",
    "\n",
    "import os\n",
    "for dirname, _, filenames in os.walk('/kaggle/input'):\n",
    "    for filename in filenames:\n",
    "        print(os.path.join(dirname, filename))\n",
    "\n",
    "# You can write up to 20GB to the current directory (/kaggle/working/) that gets preserved as output when you create a version using \"Save & Run All\" \n",
    "# You can also write temporary files to /kaggle/temp/, but they won't be saved outside of the current session"
   ]
  },
  {
   "cell_type": "markdown",
   "id": "efccdaa1",
   "metadata": {
    "papermill": {
     "duration": 0.009472,
     "end_time": "2022-06-13T17:01:39.946803",
     "exception": false,
     "start_time": "2022-06-13T17:01:39.937331",
     "status": "completed"
    },
    "tags": []
   },
   "source": [
    "> # **MNIST Neural Network from Scratch w/ mult layers**\n",
    "\n",
    "Objetivo: Estudar o projeto criado de redes neurais somente com pandas e numpy para análise do dataset MNIST, melhorando o modelo com a adição de mais layers."
   ]
  },
  {
   "cell_type": "markdown",
   "id": "c14fd440",
   "metadata": {
    "papermill": {
     "duration": 0.009966,
     "end_time": "2022-06-13T17:01:39.966372",
     "exception": false,
     "start_time": "2022-06-13T17:01:39.956406",
     "status": "completed"
    },
    "tags": []
   },
   "source": [
    "DIAGRAMA DO PROJETO: https://app.diagrams.net/#G1aNEniOxCATXECjdoEAyPIMMM3V8dTtxh"
   ]
  },
  {
   "cell_type": "markdown",
   "id": "22a428ae",
   "metadata": {
    "papermill": {
     "duration": 0.00969,
     "end_time": "2022-06-13T17:01:39.986043",
     "exception": false,
     "start_time": "2022-06-13T17:01:39.976353",
     "status": "completed"
    },
    "tags": []
   },
   "source": [
    "Estudo utilizando versão fonte: https://www.youtube.com/watch?v=w8yWXqWQYmU"
   ]
  },
  {
   "cell_type": "markdown",
   "id": "9dc855a8",
   "metadata": {
    "papermill": {
     "duration": 0.009484,
     "end_time": "2022-06-13T17:01:40.005429",
     "exception": false,
     "start_time": "2022-06-13T17:01:39.995945",
     "status": "completed"
    },
    "tags": []
   },
   "source": [
    "Baseado no modelo de Samson Zhang: https://www.kaggle.com/code/wwsalmon/simple-mnist-nn-from-scratch-numpy-no-tf-keras/notebook"
   ]
  },
  {
   "cell_type": "markdown",
   "id": "e6f147ba",
   "metadata": {
    "papermill": {
     "duration": 0.009987,
     "end_time": "2022-06-13T17:01:40.025360",
     "exception": false,
     "start_time": "2022-06-13T17:01:40.015373",
     "status": "completed"
    },
    "tags": []
   },
   "source": [
    "> **TRAZENDO OS DADOS DO DIGIT-RECOGNIZER**\n",
    "\n",
    "1. Importando os dados de treino"
   ]
  },
  {
   "cell_type": "code",
   "execution_count": 2,
   "id": "e6da803e",
   "metadata": {
    "execution": {
     "iopub.execute_input": "2022-06-13T17:01:40.046859Z",
     "iopub.status.busy": "2022-06-13T17:01:40.046337Z",
     "iopub.status.idle": "2022-06-13T17:01:46.600205Z",
     "shell.execute_reply": "2022-06-13T17:01:46.599194Z"
    },
    "papermill": {
     "duration": 6.56808,
     "end_time": "2022-06-13T17:01:46.603286",
     "exception": false,
     "start_time": "2022-06-13T17:01:40.035206",
     "status": "completed"
    },
    "tags": []
   },
   "outputs": [
    {
     "name": "stdout",
     "output_type": "stream",
     "text": [
      "   label  pixel0  pixel1  pixel2  pixel3  pixel4  pixel5  pixel6  pixel7  \\\n",
      "0      1       0       0       0       0       0       0       0       0   \n",
      "1      0       0       0       0       0       0       0       0       0   \n",
      "2      1       0       0       0       0       0       0       0       0   \n",
      "3      4       0       0       0       0       0       0       0       0   \n",
      "4      0       0       0       0       0       0       0       0       0   \n",
      "\n",
      "   pixel8  ...  pixel774  pixel775  pixel776  pixel777  pixel778  pixel779  \\\n",
      "0       0  ...         0         0         0         0         0         0   \n",
      "1       0  ...         0         0         0         0         0         0   \n",
      "2       0  ...         0         0         0         0         0         0   \n",
      "3       0  ...         0         0         0         0         0         0   \n",
      "4       0  ...         0         0         0         0         0         0   \n",
      "\n",
      "   pixel780  pixel781  pixel782  pixel783  \n",
      "0         0         0         0         0  \n",
      "1         0         0         0         0  \n",
      "2         0         0         0         0  \n",
      "3         0         0         0         0  \n",
      "4         0         0         0         0  \n",
      "\n",
      "[5 rows x 785 columns]\n",
      "   pixel0  pixel1  pixel2  pixel3  pixel4  pixel5  pixel6  pixel7  pixel8  \\\n",
      "0       0       0       0       0       0       0       0       0       0   \n",
      "1       0       0       0       0       0       0       0       0       0   \n",
      "2       0       0       0       0       0       0       0       0       0   \n",
      "3       0       0       0       0       0       0       0       0       0   \n",
      "4       0       0       0       0       0       0       0       0       0   \n",
      "\n",
      "   pixel9  ...  pixel774  pixel775  pixel776  pixel777  pixel778  pixel779  \\\n",
      "0       0  ...         0         0         0         0         0         0   \n",
      "1       0  ...         0         0         0         0         0         0   \n",
      "2       0  ...         0         0         0         0         0         0   \n",
      "3       0  ...         0         0         0         0         0         0   \n",
      "4       0  ...         0         0         0         0         0         0   \n",
      "\n",
      "   pixel780  pixel781  pixel782  pixel783  \n",
      "0         0         0         0         0  \n",
      "1         0         0         0         0  \n",
      "2         0         0         0         0  \n",
      "3         0         0         0         0  \n",
      "4         0         0         0         0  \n",
      "\n",
      "[5 rows x 784 columns]\n"
     ]
    }
   ],
   "source": [
    "from matplotlib import pyplot as plt\n",
    "\n",
    "data = pd.read_csv('/kaggle/input/digit-recognizer/train.csv')\n",
    "test = pd.read_csv('/kaggle/input/digit-recognizer/test.csv')\n",
    "sample = pd.read_csv('../input/digit-recognizer/sample_submission.csv')\n",
    "\n",
    "print(data.head())\n",
    "print(test.head())"
   ]
  },
  {
   "cell_type": "markdown",
   "id": "5fa4ad19",
   "metadata": {
    "papermill": {
     "duration": 0.009723,
     "end_time": "2022-06-13T17:01:46.623199",
     "exception": false,
     "start_time": "2022-06-13T17:01:46.613476",
     "status": "completed"
    },
    "tags": []
   },
   "source": [
    "'label' corresponde ao digito (0 - 9)\n",
    "\n",
    "'pixel' corresponde a escala em cinza (gray-scale) para cada pixel (0 - 784) onde referencia a imagem de 28w x 28h = 784"
   ]
  },
  {
   "cell_type": "markdown",
   "id": "80e35e50",
   "metadata": {
    "papermill": {
     "duration": 0.00965,
     "end_time": "2022-06-13T17:01:46.642742",
     "exception": false,
     "start_time": "2022-06-13T17:01:46.633092",
     "status": "completed"
    },
    "tags": []
   },
   "source": [
    "> # **INICIANDO A CRIAÇÃO DO MODELO MODELO**"
   ]
  },
  {
   "cell_type": "markdown",
   "id": "92438785",
   "metadata": {
    "papermill": {
     "duration": 0.009565,
     "end_time": "2022-06-13T17:01:46.662143",
     "exception": false,
     "start_time": "2022-06-13T17:01:46.652578",
     "status": "completed"
    },
    "tags": []
   },
   "source": [
    "> ### Preparando os dados"
   ]
  },
  {
   "cell_type": "markdown",
   "id": "2c1abf8a",
   "metadata": {
    "papermill": {
     "duration": 0.009473,
     "end_time": "2022-06-13T17:01:46.681400",
     "exception": false,
     "start_time": "2022-06-13T17:01:46.671927",
     "status": "completed"
    },
    "tags": []
   },
   "source": [
    "1. Transformando o dataset em um array com numpy\n",
    "\n",
    "2. Dimensão dos dados\n",
    "\n",
    "3. Para garantir que não ocorra **overfitting** baseado na distribuição dos dados, é utilizado a função random.shuffle() para reduzir o risco."
   ]
  },
  {
   "cell_type": "code",
   "execution_count": 3,
   "id": "eb1d9ff5",
   "metadata": {
    "execution": {
     "iopub.execute_input": "2022-06-13T17:01:46.702991Z",
     "iopub.status.busy": "2022-06-13T17:01:46.702340Z",
     "iopub.status.idle": "2022-06-13T17:01:47.432927Z",
     "shell.execute_reply": "2022-06-13T17:01:47.431273Z"
    },
    "papermill": {
     "duration": 0.744478,
     "end_time": "2022-06-13T17:01:47.435651",
     "exception": false,
     "start_time": "2022-06-13T17:01:46.691173",
     "status": "completed"
    },
    "tags": []
   },
   "outputs": [
    {
     "name": "stdout",
     "output_type": "stream",
     "text": [
      "Dados:  [[1 0 0 ... 0 0 0]\n",
      " [2 0 0 ... 0 0 0]\n",
      " [0 0 0 ... 0 0 0]\n",
      " ...\n",
      " [8 0 0 ... 0 0 0]\n",
      " [8 0 0 ... 0 0 0]\n",
      " [8 0 0 ... 0 0 0]]\n",
      "Rows:  42000\n",
      "Features + Label:  785\n",
      "Dados:  [[1 0 0 ... 0 0 0]\n",
      " [2 0 0 ... 0 0 0]\n",
      " [0 0 0 ... 0 0 0]\n",
      " ...\n",
      " [8 0 0 ... 0 0 0]\n",
      " [8 0 0 ... 0 0 0]\n",
      " [8 0 0 ... 0 0 0]]\n",
      "Rows:  28000\n",
      "Features + Label:  784\n"
     ]
    }
   ],
   "source": [
    "data = np.array(data)   # 1. Transforma o dataset em array\n",
    "m, n = data.shape       # 2. Dimensão dos dados (rows e features + 1(label))\n",
    "np.random.shuffle(data) # 3. Elimina o risco de overfitting\n",
    "print(\"Dados: \", data)\n",
    "print(\"Rows: \", m)\n",
    "print(\"Features + Label: \", n)\n",
    "\n",
    "test = np.array(test)   # 1. Transforma o dataset em array\n",
    "tm, tn = test.shape       # 2. Dimensão dos dados (rows e features + 1(label))\n",
    "print(\"Dados: \", data)\n",
    "print(\"Rows: \", tm)\n",
    "print(\"Features + Label: \", tn)"
   ]
  },
  {
   "cell_type": "code",
   "execution_count": 4,
   "id": "f1b75814",
   "metadata": {
    "execution": {
     "iopub.execute_input": "2022-06-13T17:01:47.458317Z",
     "iopub.status.busy": "2022-06-13T17:01:47.457892Z",
     "iopub.status.idle": "2022-06-13T17:01:47.660292Z",
     "shell.execute_reply": "2022-06-13T17:01:47.659261Z"
    },
    "papermill": {
     "duration": 0.21626,
     "end_time": "2022-06-13T17:01:47.662718",
     "exception": false,
     "start_time": "2022-06-13T17:01:47.446458",
     "status": "completed"
    },
    "tags": []
   },
   "outputs": [],
   "source": [
    "data_dev = data[0:1000].T #Transpõe a matriz\n",
    "Y_dev = data_dev[0]       #Label -> primeira linha\n",
    "X_dev = data_dev[1:n]     #Features -> 784\n",
    "X_dev = X_dev / 255.\n",
    "\n",
    "data_train = data[1000:m].T #Transpõe a matriz\n",
    "Y_train = data_train[0]     #Label -> primeira linha\n",
    "X_train = data_train[1:n]   #Features -> 784\n",
    "X_train = X_train / 255.\n",
    "_,m_train = X_train.shape\n",
    "\n",
    "\n",
    "data_test = test[0:tm].T #Transpõe a matriz\n",
    "X_test = data_test[0:tn]   #Features -> 784\n",
    "X_test = X_test / 255.\n",
    "_,m_test = X_test.shape"
   ]
  },
  {
   "cell_type": "markdown",
   "id": "5d9c3a1e",
   "metadata": {
    "papermill": {
     "duration": 0.009889,
     "end_time": "2022-06-13T17:01:47.682644",
     "exception": false,
     "start_time": "2022-06-13T17:01:47.672755",
     "status": "completed"
    },
    "tags": []
   },
   "source": [
    "> # INICIANDO MODELO DE PROPAGAÇÃO"
   ]
  },
  {
   "cell_type": "markdown",
   "id": "7bb8b7aa",
   "metadata": {
    "papermill": {
     "duration": 0.009554,
     "end_time": "2022-06-13T17:01:47.702066",
     "exception": false,
     "start_time": "2022-06-13T17:01:47.692512",
     "status": "completed"
    },
    "tags": []
   },
   "source": [
    "> ### Funções iniciais e de ativação"
   ]
  },
  {
   "cell_type": "markdown",
   "id": "9434adbf",
   "metadata": {
    "papermill": {
     "duration": 0.009571,
     "end_time": "2022-06-13T17:01:47.721630",
     "exception": false,
     "start_time": "2022-06-13T17:01:47.712059",
     "status": "completed"
    },
    "tags": []
   },
   "source": [
    "1. init_params() -> Cria dados em formato de uma distribuição normal uniforme entre -0,5 e 0,5 para os parametros de W = Weights e b = Bias para os Nodes ( 1 e 2 )\n",
    "\n",
    "2. ReLU(Z) -> Função de ativação que transforma Z no método ReLU (if x>0 them x else 0)\n",
    "\n",
    "3. Softmax(Z) -> Função de ativação no método softmax\n",
    "\n",
    "4. one_hot(Y) -> Transforma os valores de um array Y em uma matriz para 0 ou 1 (one-hot-econding) para cada valor."
   ]
  },
  {
   "cell_type": "code",
   "execution_count": 5,
   "id": "0fc50591",
   "metadata": {
    "execution": {
     "iopub.execute_input": "2022-06-13T17:01:47.743266Z",
     "iopub.status.busy": "2022-06-13T17:01:47.742688Z",
     "iopub.status.idle": "2022-06-13T17:01:47.751625Z",
     "shell.execute_reply": "2022-06-13T17:01:47.750923Z"
    },
    "papermill": {
     "duration": 0.021943,
     "end_time": "2022-06-13T17:01:47.753422",
     "exception": false,
     "start_time": "2022-06-13T17:01:47.731479",
     "status": "completed"
    },
    "tags": []
   },
   "outputs": [],
   "source": [
    "# A função np.random.rand retorna valores entre -1 e 1, \n",
    "# então adicionamos o -0,5 para retornar valores entre -0,5 e 0,5\n",
    "def init_params(): \n",
    "    W1 = np.random.rand(200, 784) - 0.5 \n",
    "    b1 = np.random.rand(200, 1) - 0.5\n",
    "    W2 = np.random.rand(10, 200) - 0.5\n",
    "    b2 = np.random.rand(10, 1) - 0.5\n",
    "    return W1, b1, W2, b2\n",
    "\n",
    "def ReLU(Z):\n",
    "    return np.maximum(Z, 0) # Para cada valor de Z, se for maior que 0 retorna Z, se não, retorna 0.\n",
    "\n",
    "def softmax(Z):\n",
    "    A = np.exp(Z) / sum(np.exp(Z)) # Função exponencial, então temos e^Z / sum(e^Z)\n",
    "    return A\n",
    "\n",
    "def ReLU_deriv(Z): # Se ReLU é linear, sua derivada é 0 então:\n",
    "    return Z > 0 # true = 1 false = 0\n",
    "\n",
    "def one_hot(Y):\n",
    "    one_hot_Y = np.zeros((Y.size, Y.max() + 1))\n",
    "    one_hot_Y[np.arange(Y.size), Y] = 1\n",
    "    one_hot_Y = one_hot_Y.T\n",
    "    return one_hot_Y"
   ]
  },
  {
   "cell_type": "markdown",
   "id": "0e56adff",
   "metadata": {
    "papermill": {
     "duration": 0.009489,
     "end_time": "2022-06-13T17:01:47.773346",
     "exception": false,
     "start_time": "2022-06-13T17:01:47.763857",
     "status": "completed"
    },
    "tags": []
   },
   "source": [
    "> ### Foward Propagation"
   ]
  },
  {
   "cell_type": "markdown",
   "id": "d8827423",
   "metadata": {
    "papermill": {
     "duration": 0.009389,
     "end_time": "2022-06-13T17:01:47.792502",
     "exception": false,
     "start_time": "2022-06-13T17:01:47.783113",
     "status": "completed"
    },
    "tags": []
   },
   "source": [
    "OBS: Baseado no diagrama do método de propagação, X = A0 -> input layer\n",
    "     .dot() = Dot Product, referente ao produto escalar de matrizes"
   ]
  },
  {
   "cell_type": "code",
   "execution_count": 6,
   "id": "a5df8580",
   "metadata": {
    "execution": {
     "iopub.execute_input": "2022-06-13T17:01:47.814158Z",
     "iopub.status.busy": "2022-06-13T17:01:47.813428Z",
     "iopub.status.idle": "2022-06-13T17:01:47.818950Z",
     "shell.execute_reply": "2022-06-13T17:01:47.818378Z"
    },
    "papermill": {
     "duration": 0.018482,
     "end_time": "2022-06-13T17:01:47.820828",
     "exception": false,
     "start_time": "2022-06-13T17:01:47.802346",
     "status": "completed"
    },
    "tags": []
   },
   "outputs": [],
   "source": [
    "def forward_prop(W1, b1, W2, b2, X):\n",
    "    Z1 = W1.dot(X) + b1 # Produto escalar W1 e X(input layer)\n",
    "    A1 = ReLU(Z1)\n",
    "    Z2 = W2.dot(A1) + b2\n",
    "    A2 = softmax(Z2)\n",
    "    return Z1, A1, Z2, A2"
   ]
  },
  {
   "cell_type": "markdown",
   "id": "0a1c1396",
   "metadata": {
    "papermill": {
     "duration": 0.009716,
     "end_time": "2022-06-13T17:01:47.840529",
     "exception": false,
     "start_time": "2022-06-13T17:01:47.830813",
     "status": "completed"
    },
    "tags": []
   },
   "source": [
    "> ### Backward Propagation"
   ]
  },
  {
   "cell_type": "code",
   "execution_count": 7,
   "id": "ffdb68b7",
   "metadata": {
    "execution": {
     "iopub.execute_input": "2022-06-13T17:01:47.862590Z",
     "iopub.status.busy": "2022-06-13T17:01:47.861887Z",
     "iopub.status.idle": "2022-06-13T17:01:47.868713Z",
     "shell.execute_reply": "2022-06-13T17:01:47.868057Z"
    },
    "papermill": {
     "duration": 0.020231,
     "end_time": "2022-06-13T17:01:47.870681",
     "exception": false,
     "start_time": "2022-06-13T17:01:47.850450",
     "status": "completed"
    },
    "tags": []
   },
   "outputs": [],
   "source": [
    "def backward_prop(Z1, A1, Z2, A2, W1, W2, X, Y):\n",
    "    one_hot_Y = one_hot(Y)\n",
    "    dZ2 = A2 - one_hot_Y\n",
    "    dW2 = 1 / m * dZ2.dot(A1.T)\n",
    "    db2 = 1 / m * np.sum(dZ2)\n",
    "    dZ1 = W2.T.dot(dZ2) * ReLU_deriv(Z1)\n",
    "    dW1 = 1 / m * dZ1.dot(X.T)\n",
    "    db1 = 1 / m * np.sum(dZ1)\n",
    "    return dW1, db1, dW2, db2"
   ]
  },
  {
   "cell_type": "markdown",
   "id": "671a306f",
   "metadata": {
    "papermill": {
     "duration": 0.009717,
     "end_time": "2022-06-13T17:01:47.890499",
     "exception": false,
     "start_time": "2022-06-13T17:01:47.880782",
     "status": "completed"
    },
    "tags": []
   },
   "source": [
    "> ### Update Parametros"
   ]
  },
  {
   "cell_type": "markdown",
   "id": "11569c39",
   "metadata": {
    "papermill": {
     "duration": 0.00958,
     "end_time": "2022-06-13T17:01:47.910054",
     "exception": false,
     "start_time": "2022-06-13T17:01:47.900474",
     "status": "completed"
    },
    "tags": []
   },
   "source": [
    "Encontra o melhor estimador para Weights e Bias"
   ]
  },
  {
   "cell_type": "code",
   "execution_count": 8,
   "id": "1e97e98f",
   "metadata": {
    "execution": {
     "iopub.execute_input": "2022-06-13T17:01:47.931459Z",
     "iopub.status.busy": "2022-06-13T17:01:47.931060Z",
     "iopub.status.idle": "2022-06-13T17:01:47.936534Z",
     "shell.execute_reply": "2022-06-13T17:01:47.935930Z"
    },
    "papermill": {
     "duration": 0.018455,
     "end_time": "2022-06-13T17:01:47.938396",
     "exception": false,
     "start_time": "2022-06-13T17:01:47.919941",
     "status": "completed"
    },
    "tags": []
   },
   "outputs": [],
   "source": [
    "def update_params(W1, b1, W2, b2, dW1, db1, dW2, db2, alpha):\n",
    "    W1 = W1 - alpha * dW1\n",
    "    b1 = b1 - alpha * db1    \n",
    "    W2 = W2 - alpha * dW2  \n",
    "    b2 = b2 - alpha * db2    \n",
    "    return W1, b1, W2, b2"
   ]
  },
  {
   "cell_type": "markdown",
   "id": "6e3263dc",
   "metadata": {
    "papermill": {
     "duration": 0.009484,
     "end_time": "2022-06-13T17:01:47.957819",
     "exception": false,
     "start_time": "2022-06-13T17:01:47.948335",
     "status": "completed"
    },
    "tags": []
   },
   "source": [
    "> ### Funções para treinar o modelo"
   ]
  },
  {
   "cell_type": "markdown",
   "id": "572b3e31",
   "metadata": {
    "papermill": {
     "duration": 0.010063,
     "end_time": "2022-06-13T17:01:47.977726",
     "exception": false,
     "start_time": "2022-06-13T17:01:47.967663",
     "status": "completed"
    },
    "tags": []
   },
   "source": [
    "1. get_predictions(A2) -> retorna o maior valor do indice de um np.array\n",
    "\n",
    "2. get_accuracy(predictions, Y) -> soma(np.argmax(A2, 0) == Y) / Y.size\n",
    "\n",
    "3. gradient_descent(X, Y, alpha, iterations) -> treina o modelo com dados de treino, alpha = learning rate e iterations é o numero de ciclos de aprendizagem do modelo"
   ]
  },
  {
   "cell_type": "code",
   "execution_count": 9,
   "id": "4c7fde55",
   "metadata": {
    "execution": {
     "iopub.execute_input": "2022-06-13T17:01:48.000336Z",
     "iopub.status.busy": "2022-06-13T17:01:47.999619Z",
     "iopub.status.idle": "2022-06-13T17:01:48.008344Z",
     "shell.execute_reply": "2022-06-13T17:01:48.007604Z"
    },
    "papermill": {
     "duration": 0.022047,
     "end_time": "2022-06-13T17:01:48.010367",
     "exception": false,
     "start_time": "2022-06-13T17:01:47.988320",
     "status": "completed"
    },
    "tags": []
   },
   "outputs": [],
   "source": [
    "def get_predictions(A2):\n",
    "    return np.argmax(A2, 0)\n",
    "\n",
    "def get_accuracy(predictions, Y):\n",
    "    print(predictions, Y)\n",
    "    return np.sum(predictions == Y) / Y.size\n",
    "\n",
    "def gradient_descent(X, Y, alpha, iterations):\n",
    "    W1, b1, W2, b2 = init_params() # Cria parametros de Weight e Bias\n",
    "    for i in range(iterations):\n",
    "        Z1, A1, Z2, A2 = forward_prop(W1, b1, W2, b2, X)\n",
    "        dW1, db1, dW2, db2 = backward_prop(Z1, A1, Z2, A2, W1, W2, X, Y)\n",
    "        W1, b1, W2, b2 = update_params(W1, b1, W2, b2, dW1, db1, dW2, db2, alpha)\n",
    "        if i % 10 == 0: # Para cada 10 iterations, print\n",
    "            print(\"Iteration: \", i)\n",
    "            predictions = get_predictions(A2)\n",
    "            print(get_accuracy(predictions, Y))\n",
    "    return W1, b1, W2, b2"
   ]
  },
  {
   "cell_type": "markdown",
   "id": "a1ea5647",
   "metadata": {
    "papermill": {
     "duration": 0.010325,
     "end_time": "2022-06-13T17:01:48.031038",
     "exception": false,
     "start_time": "2022-06-13T17:01:48.020713",
     "status": "completed"
    },
    "tags": []
   },
   "source": [
    "> #### Executando o modelo"
   ]
  },
  {
   "cell_type": "code",
   "execution_count": 10,
   "id": "ad5f4c73",
   "metadata": {
    "execution": {
     "iopub.execute_input": "2022-06-13T17:01:48.053131Z",
     "iopub.status.busy": "2022-06-13T17:01:48.052525Z",
     "iopub.status.idle": "2022-06-13T17:01:55.318411Z",
     "shell.execute_reply": "2022-06-13T17:01:55.317305Z"
    },
    "papermill": {
     "duration": 7.280477,
     "end_time": "2022-06-13T17:01:55.321770",
     "exception": false,
     "start_time": "2022-06-13T17:01:48.041293",
     "status": "completed"
    },
    "tags": []
   },
   "outputs": [
    {
     "name": "stdout",
     "output_type": "stream",
     "text": [
      "Iteration:  0\n",
      "[9 0 9 ... 9 9 9] [8 0 2 ... 8 8 8]\n",
      "0.1054390243902439\n"
     ]
    }
   ],
   "source": [
    "W1, b1, W2, b2 = gradient_descent(X_train, Y_train, 0.10, 10)"
   ]
  },
  {
   "cell_type": "markdown",
   "id": "ad18a9ec",
   "metadata": {
    "papermill": {
     "duration": 0.017921,
     "end_time": "2022-06-13T17:01:55.358338",
     "exception": false,
     "start_time": "2022-06-13T17:01:55.340417",
     "status": "completed"
    },
    "tags": []
   },
   "source": [
    "> ### Funções para executar o modelo"
   ]
  },
  {
   "cell_type": "code",
   "execution_count": 11,
   "id": "907686d3",
   "metadata": {
    "execution": {
     "iopub.execute_input": "2022-06-13T17:01:55.397460Z",
     "iopub.status.busy": "2022-06-13T17:01:55.396867Z",
     "iopub.status.idle": "2022-06-13T17:01:55.411121Z",
     "shell.execute_reply": "2022-06-13T17:01:55.410137Z"
    },
    "papermill": {
     "duration": 0.037386,
     "end_time": "2022-06-13T17:01:55.414208",
     "exception": false,
     "start_time": "2022-06-13T17:01:55.376822",
     "status": "completed"
    },
    "tags": []
   },
   "outputs": [],
   "source": [
    "def make_predictions(X, W1, b1, W2, b2):\n",
    "    _, _, _, A2 = forward_prop(W1, b1, W2, b2, X)\n",
    "    predictions = get_predictions(A2)\n",
    "    return predictions\n",
    "\n",
    "def test_prediction(index, W1, b1, W2, b2):\n",
    "    current_image = X_train[:, index, None]\n",
    "    prediction = make_predictions(X_train[:, index, None], W1, b1, W2, b2)\n",
    "    label = Y_train[index]\n",
    "    print(\"Prediction: \", prediction)\n",
    "    print(\"Label: \", label)\n",
    "    \n",
    "    current_image = current_image.reshape((28, 28)) * 255\n",
    "    plt.gray()\n",
    "    plt.imshow(current_image, interpolation='nearest')\n",
    "    plt.show()"
   ]
  },
  {
   "cell_type": "markdown",
   "id": "1688088d",
   "metadata": {
    "papermill": {
     "duration": 0.010119,
     "end_time": "2022-06-13T17:01:55.440258",
     "exception": false,
     "start_time": "2022-06-13T17:01:55.430139",
     "status": "completed"
    },
    "tags": []
   },
   "source": [
    "> ### Predição com o modelo"
   ]
  },
  {
   "cell_type": "code",
   "execution_count": 12,
   "id": "94556667",
   "metadata": {
    "execution": {
     "iopub.execute_input": "2022-06-13T17:01:55.462607Z",
     "iopub.status.busy": "2022-06-13T17:01:55.462254Z",
     "iopub.status.idle": "2022-06-13T17:01:55.679327Z",
     "shell.execute_reply": "2022-06-13T17:01:55.678377Z"
    },
    "papermill": {
     "duration": 0.23104,
     "end_time": "2022-06-13T17:01:55.681743",
     "exception": false,
     "start_time": "2022-06-13T17:01:55.450703",
     "status": "completed"
    },
    "tags": []
   },
   "outputs": [
    {
     "name": "stdout",
     "output_type": "stream",
     "text": [
      "Prediction:  [2]\n",
      "Label:  8\n"
     ]
    },
    {
     "data": {
      "image/png": "[encoded data removed]",
      "text/plain": [
       "<Figure size 432x288 with 1 Axes>"
      ]
     },
     "metadata": {
      "needs_background": "light"
     },
     "output_type": "display_data"
    }
   ],
   "source": [
    "indexrand = np.random.randint(1,tm)\n",
    "test_prediction(indexrand, W1, b1, W2, b2)"
   ]
  },
  {
   "cell_type": "code",
   "execution_count": 13,
   "id": "8e26217f",
   "metadata": {
    "execution": {
     "iopub.execute_input": "2022-06-13T17:01:55.704018Z",
     "iopub.status.busy": "2022-06-13T17:01:55.703651Z",
     "iopub.status.idle": "2022-06-13T17:01:55.735596Z",
     "shell.execute_reply": "2022-06-13T17:01:55.733080Z"
    },
    "papermill": {
     "duration": 0.046499,
     "end_time": "2022-06-13T17:01:55.738819",
     "exception": false,
     "start_time": "2022-06-13T17:01:55.692320",
     "status": "completed"
    },
    "tags": []
   },
   "outputs": [
    {
     "name": "stdout",
     "output_type": "stream",
     "text": [
      "[1 2 0 7 1 1 1 7 1 1 9 8 0 4 7 8 1 8 8 7 7 4 9 9 8 4 8 8 9 3 4 1 2 1 5 3 3\n",
      " 9 1 0 9 0 0 2 7 1 7 3 9 1 2 9 0 7 8 5 0 5 8 6 2 0 2 8 7 4 6 6 8 4 8 4 3 1\n",
      " 2 9 3 8 1 8 7 8 3 0 7 6 9 9 3 8 5 7 5 1 8 7 6 6 9 4 6 9 3 5 9 8 1 1 0 4 0\n",
      " 1 6 1 6 4 6 8 9 0 1 0 2 7 1 2 3 0 1 3 9 5 0 3 6 0 2 3 8 2 0 5 9 2 6 0 1 3\n",
      " 4 7 6 5 2 6 6 0 6 8 0 7 3 9 2 7 3 2 9 8 3 8 3 0 6 3 3 3 1 1 4 8 1 6 9 1 7\n",
      " 2 0 0 9 7 7 0 6 4 8 3 1 7 8 5 5 0 5 0 7 6 0 7 2 8 9 4 1 6 2 9 1 8 3 3 7 8\n",
      " 6 8 3 3 9 7 3 0 6 8 2 6 0 9 6 7 1 6 0 6 2 7 3 6 2 8 9 4 3 0 7 0 1 9 1 4 7\n",
      " 7 5 1 6 7 3 4 1 4 2 0 8 0 6 2 5 4 1 2 5 9 8 4 5 7 6 5 3 4 1 7 2 6 1 9 9 8\n",
      " 1 1 7 6 4 5 6 9 0 6 7 1 8 9 2 7 0 3 4 2 9 2 4 0 0 7 5 0 1 3 2 1 8 7 3 6 0\n",
      " 9 3 3 7 7 8 4 8 2 5 5 3 7 7 6 1 6 9 2 0 1 4 9 4 2 7 9 8 9 2 0 4 4 8 0 9 6\n",
      " 0 9 8 3 1 8 5 2 3 8 4 9 6 6 9 6 2 1 5 0 6 3 8 4 9 2 3 4 4 6 9 0 1 6 6 5 7\n",
      " 2 9 9 9 6 5 2 3 3 1 3 7 3 0 2 3 2 5 3 8 4 4 8 5 2 0 8 1 2 1 8 0 1 2 8 2 8\n",
      " 2 9 5 6 8 3 1 4 6 3 0 0 2 7 3 2 2 1 7 2 8 1 1 6 7 7 6 0 1 3 7 8 8 1 5 1 7\n",
      " 5 4 5 3 8 8 6 6 2 8 2 3 2 1 9 2 1 7 9 7 0 1 2 2 0 4 2 4 7 1 4 5 5 0 6 4 6\n",
      " 2 6 1 2 5 6 2 8 2 7 4 1 7 5 5 2 7 8 5 7 3 0 7 9 2 9 0 6 2 6 4 1 3 1 2 8 5\n",
      " 3 1 4 4 8 1 5 5 6 6 1 0 5 3 4 4 8 3 0 1 2 2 6 4 0 0 7 1 2 9 7 4 3 7 7 6 9\n",
      " 2 2 7 3 1 7 6 8 3 3 4 1 2 1 8 5 4 4 4 1 8 3 1 0 1 2 0 5 1 2 0 6 1 9 5 7 2\n",
      " 6 6 2 0 1 7 5 5 2 0 6 2 9 7 1 6 1 0 1 3 6 6 3 3 0 2 9 3 6 2 1 9 9 3 0 6 7\n",
      " 0 0 6 6 4 9 8 4 2 9 7 2 3 7 0 0 1 7 3 5 8 2 8 8 8 3 9 4 8 4 3 0 4 1 7 0 2\n",
      " 8 7 3 5 1 9 7 0 0 7 4 5 0 1 4 7 3 7 6 7 2 2 8 6 9 0 6 1 7 6 7 1 3 3 8 9 9\n",
      " 2 1 0 0 4 5 3 1 0 5 4 4 3 6 0 6 7 5 9 5 8 7 8 2 9 6 7 6 9 1 7 7 7 2 2 9 7\n",
      " 1 2 9 6 8 5 0 9 4 8 2 0 7 3 6 8 3 1 9 2 1 2 2 7 3 8 0 1 5 2 9 8 5 0 9 1 1\n",
      " 2 5 6 7 8 2 5 0 0 2 1 3 3 5 3 3 5 2 7 3 3 6 9 7 3 9 7 9 4 8 9 6 9 1 4 4 4\n",
      " 6 5 5 3 9 9 7 4 5 0 3 8 1 0 0 3 5 2 0 6 7 0 0 6 4 9 8 7 1 8 1 7 8 9 2 0 4\n",
      " 9 5 0 1 1 6 4 7 2 7 9 3 8 6 5 2 9 3 0 1 7 9 1 6 5 2 1 0 0 1 1 0 7 8 3 0 9\n",
      " 7 1 0 0 3 3 4 1 0 7 7 3 6 0 7 3 7 1 6 2 1 1 0 1 1 8 2 1 9 2 6 3 1 1 3 2 9\n",
      " 5 8 7 2 7 8 4 1 9 8 8 3 6 4 3 7 3 0 4 0 2 7 1 3 5 3 0 5 9 4 1 1 9 6 6 3 3\n",
      " 5] [1 2 0 9 1 1 7 7 1 1 4 8 0 9 7 9 1 8 3 7 7 4 7 9 5 3 2 8 6 9 9 1 2 1 3 7 8\n",
      " 5 1 6 9 2 0 2 3 1 7 3 4 7 4 9 4 7 9 6 0 5 8 4 2 0 2 8 7 4 6 6 3 4 8 2 3 1\n",
      " 8 9 5 8 1 1 7 8 1 0 9 6 9 9 1 8 1 6 4 1 5 7 8 9 9 2 2 0 3 8 9 2 1 1 5 4 0\n",
      " 1 4 6 6 9 8 5 9 0 8 0 5 7 1 3 3 0 1 9 6 6 0 3 7 0 5 2 6 6 0 5 3 2 2 0 1 3\n",
      " 1 7 2 5 7 6 6 0 6 0 0 7 0 4 2 4 8 1 4 5 0 8 0 3 6 3 3 6 1 1 8 8 1 6 9 7 7\n",
      " 2 0 0 5 7 7 0 6 4 9 3 1 6 8 7 9 6 5 0 7 1 7 7 3 8 9 9 1 6 3 7 4 6 2 8 7 9\n",
      " 6 8 7 6 4 7 3 6 6 3 2 8 0 9 4 5 1 6 6 6 2 7 3 0 2 3 4 4 6 5 7 0 3 0 2 9 7\n",
      " 7 3 6 2 7 3 4 2 4 8 0 3 0 6 8 3 4 2 2 3 9 4 4 3 7 6 5 7 8 7 7 5 6 1 4 9 3\n",
      " 1 0 5 6 4 5 6 8 5 3 4 1 9 9 3 9 0 3 2 2 9 2 4 0 5 9 3 5 1 7 5 4 8 7 3 2 7\n",
      " 4 1 3 7 5 0 6 3 7 4 5 6 7 0 5 1 6 4 3 0 1 4 7 4 7 5 4 6 9 2 0 4 4 2 6 4 6\n",
      " 0 6 2 1 1 9 8 5 9 8 2 4 0 6 4 6 3 1 6 0 6 8 2 5 7 2 3 6 3 6 9 7 8 2 8 3 7\n",
      " 5 9 1 9 2 5 7 9 7 1 7 5 0 5 2 5 1 3 5 5 8 4 3 3 1 0 8 1 2 1 3 0 7 7 8 0 3\n",
      " 2 8 5 6 8 1 1 6 6 3 4 0 2 9 5 9 2 1 7 2 9 1 7 4 7 1 2 5 1 3 7 3 8 1 2 7 7\n",
      " 8 6 5 4 5 5 4 6 8 8 2 4 8 7 2 7 1 3 9 4 0 1 6 3 4 4 2 4 7 1 7 3 5 0 4 4 3\n",
      " 1 6 4 2 5 6 5 4 2 7 4 1 7 5 8 6 9 8 3 9 3 4 7 0 3 9 0 6 9 2 9 1 5 1 2 2 5\n",
      " 3 1 2 9 5 5 6 5 6 6 1 0 5 3 2 4 3 6 0 1 4 2 2 7 0 4 9 1 2 5 0 4 3 3 4 2 4\n",
      " 2 2 2 3 9 7 6 3 1 2 3 6 2 1 2 8 4 4 4 8 6 1 1 0 1 2 4 5 1 2 0 2 8 9 3 4 2\n",
      " 6 6 4 0 1 7 5 3 2 0 6 2 9 7 2 4 1 0 6 3 6 2 3 3 0 3 4 3 5 3 1 6 7 3 0 2 9\n",
      " 0 2 6 6 6 9 9 8 0 7 2 2 2 7 0 9 1 7 7 5 9 6 3 8 8 2 4 4 8 9 3 0 9 1 6 0 2\n",
      " 3 7 0 5 1 3 9 0 8 0 4 0 0 6 9 7 2 7 6 3 9 3 8 6 4 0 6 4 1 6 7 1 3 0 3 8 9\n",
      " 8 1 0 0 4 8 1 4 0 5 8 6 6 8 5 7 7 5 9 3 7 7 8 3 4 2 7 6 3 1 7 7 7 5 1 9 7\n",
      " 6 2 9 2 7 7 0 9 3 7 4 0 7 3 6 3 4 7 9 2 1 3 2 7 3 9 0 0 5 5 9 3 5 0 8 2 1\n",
      " 2 5 6 7 7 2 5 0 0 2 8 3 5 5 3 3 5 1 2 7 5 6 5 2 3 9 4 9 6 8 9 6 9 1 9 2 4\n",
      " 6 0 5 8 6 7 4 8 3 0 3 8 1 0 0 5 5 5 0 4 7 0 8 6 8 9 9 7 1 8 5 7 2 7 3 0 8\n",
      " 6 3 0 1 1 4 8 7 1 7 6 9 3 4 0 9 1 2 0 1 2 5 1 6 5 5 3 0 0 1 0 0 4 7 5 0 5\n",
      " 4 1 2 0 3 6 5 1 0 7 2 3 6 0 9 8 4 1 6 2 2 3 7 1 1 8 6 1 5 7 7 7 5 1 5 2 9\n",
      " 3 9 9 5 7 8 9 9 9 9 8 3 4 4 7 5 7 0 4 0 3 7 7 4 5 3 0 5 9 4 1 1 9 6 6 3 3\n",
      " 5]\n"
     ]
    },
    {
     "data": {
      "text/plain": [
       "0.516"
      ]
     },
     "execution_count": 13,
     "metadata": {},
     "output_type": "execute_result"
    }
   ],
   "source": [
    "dev_predictions = make_predictions(X_dev, W1, b1, W2, b2)\n",
    "get_accuracy(dev_predictions, Y_dev)"
   ]
  },
  {
   "cell_type": "markdown",
   "id": "b3532d3a",
   "metadata": {
    "papermill": {
     "duration": 0.018969,
     "end_time": "2022-06-13T17:01:55.777389",
     "exception": false,
     "start_time": "2022-06-13T17:01:55.758420",
     "status": "completed"
    },
    "tags": []
   },
   "source": [
    "> ### Dados de test.csv"
   ]
  },
  {
   "cell_type": "markdown",
   "id": "aac1536a",
   "metadata": {
    "papermill": {
     "duration": 0.018978,
     "end_time": "2022-06-13T17:01:55.815883",
     "exception": false,
     "start_time": "2022-06-13T17:01:55.796905",
     "status": "completed"
    },
    "tags": []
   },
   "source": [
    "Testando a acurácia do modelo com os dados de test.csv"
   ]
  },
  {
   "cell_type": "code",
   "execution_count": 14,
   "id": "4459ddb6",
   "metadata": {
    "execution": {
     "iopub.execute_input": "2022-06-13T17:01:55.850130Z",
     "iopub.status.busy": "2022-06-13T17:01:55.849103Z",
     "iopub.status.idle": "2022-06-13T17:01:56.110767Z",
     "shell.execute_reply": "2022-06-13T17:01:56.109725Z"
    },
    "papermill": {
     "duration": 0.277732,
     "end_time": "2022-06-13T17:01:56.114201",
     "exception": false,
     "start_time": "2022-06-13T17:01:55.836469",
     "status": "completed"
    },
    "tags": []
   },
   "outputs": [
    {
     "name": "stdout",
     "output_type": "stream",
     "text": [
      "Predictions:  [2 5 9 ... 3 9 5] rows:  28000\n"
     ]
    }
   ],
   "source": [
    "test_predictions = make_predictions(X_test, W1, b1, W2, b2)\n",
    "j = test_predictions.shape\n",
    "\n",
    "print(\"Predictions: \",test_predictions, \"rows: \", j[0])\n",
    "#get_accuracy(dev_predictions, Y_test)"
   ]
  },
  {
   "cell_type": "code",
   "execution_count": 15,
   "id": "ed0ad28b",
   "metadata": {
    "execution": {
     "iopub.execute_input": "2022-06-13T17:01:56.156725Z",
     "iopub.status.busy": "2022-06-13T17:01:56.156090Z",
     "iopub.status.idle": "2022-06-13T17:01:56.245700Z",
     "shell.execute_reply": "2022-06-13T17:01:56.244802Z"
    },
    "papermill": {
     "duration": 0.113558,
     "end_time": "2022-06-13T17:01:56.248065",
     "exception": false,
     "start_time": "2022-06-13T17:01:56.134507",
     "status": "completed"
    },
    "tags": []
   },
   "outputs": [],
   "source": [
    "submissions = pd.DataFrame({\"ImageId\": list(range(1,len(test_predictions)+1)),\n",
    "    \"Label\": test_predictions})\n",
    "submissions.to_csv(\"submissions.csv\", index=False, header=True)"
   ]
  },
  {
   "cell_type": "markdown",
   "id": "9031eaae",
   "metadata": {
    "papermill": {
     "duration": 0.010627,
     "end_time": "2022-06-13T17:01:56.269613",
     "exception": false,
     "start_time": "2022-06-13T17:01:56.258986",
     "status": "completed"
    },
    "tags": []
   },
   "source": [
    "# TENTANDO CRIAR UM ALGORITMO DE DEEP LEANING"
   ]
  },
  {
   "cell_type": "code",
   "execution_count": 16,
   "id": "07538ac6",
   "metadata": {
    "execution": {
     "iopub.execute_input": "2022-06-13T17:01:56.294037Z",
     "iopub.status.busy": "2022-06-13T17:01:56.293669Z",
     "iopub.status.idle": "2022-06-13T17:01:56.324133Z",
     "shell.execute_reply": "2022-06-13T17:01:56.323209Z"
    },
    "papermill": {
     "duration": 0.045322,
     "end_time": "2022-06-13T17:01:56.326399",
     "exception": false,
     "start_time": "2022-06-13T17:01:56.281077",
     "status": "completed"
    },
    "tags": []
   },
   "outputs": [],
   "source": [
    "# classe de redes neurais\n",
    "\n",
    "# NN pelo método de propagação com treino baseado em gradient descent\n",
    "class neural_network:\n",
    "    \n",
    "    def __init__(nodes, X):\n",
    "        #Numero de Features para automatizar input layers\n",
    "        X = np.array(X)\n",
    "        m, n = X.shape\n",
    "        \n",
    "        #Criando W e b baseado na quantidade de nodes e layers\n",
    "        W1 = np.random.rand(nodes, m) - 0.5 \n",
    "        b1 = np.random.rand(nodes, 1) - 0.5\n",
    "        W2 = np.random.rand(10, nodes) - 0.5\n",
    "        b2 = np.random.rand(10, 1) - 0.5\n",
    "        return W1, b1, W2, b2\n",
    "    \n",
    "    def ReLU(Z):\n",
    "        # Para cada valor de Z, se for maior que 0 retorna Z, se não, retorna 0.\n",
    "        return np.maximum(Z, 0) \n",
    "\n",
    "    def softmax(Z):\n",
    "        # Função exponencial, então temos e^Z / sum(e^Z)\n",
    "        A = np.exp(Z) / sum(np.exp(Z)) \n",
    "        return A\n",
    "\n",
    "    # Se ReLU é linear, sua derivada é 0 então:\n",
    "    def ReLU_deriv(Z): \n",
    "        # true = 1 false = 0\n",
    "        return Z > 0 \n",
    "\n",
    "    def one_hot(Y):\n",
    "        one_hot_Y = np.zeros((Y.size, Y.max() + 1))\n",
    "        one_hot_Y[np.arange(Y.size), Y] = 1\n",
    "        one_hot_Y = one_hot_Y.T\n",
    "        return one_hot_Y\n",
    "    \n",
    "    def forward_prop(W1, b1, W2, b2, X):\n",
    "        Z1 = W1.dot(X) + b1 # Produto escalar W1 e X(input layer)\n",
    "        A1 = neural_network.ReLU(Z1)\n",
    "        Z2 = W2.dot(A1) + b2\n",
    "        A2 = neural_network.softmax(Z2)\n",
    "        return Z1, A1, Z2, A2\n",
    "\n",
    "    def backward_prop(Z1, A1, Z2, A2, W1, W2, X, Y):\n",
    "        one_hot_Y = neural_network.one_hot(Y)\n",
    "        dZ2 = A2 - one_hot_Y\n",
    "        dW2 = 1 / m * dZ2.dot(A1.T)\n",
    "        db2 = 1 / m * np.sum(dZ2)\n",
    "        dZ1 = W2.T.dot(dZ2) * neural_network.ReLU_deriv(Z1)\n",
    "        dW1 = 1 / m * dZ1.dot(X.T)\n",
    "        db1 = 1 / m * np.sum(dZ1)\n",
    "        return dW1, db1, dW2, db2\n",
    "\n",
    "    def update_params(W1, b1, W2, b2, dW1, db1, dW2, db2, alpha):\n",
    "        W1 = W1 - alpha * dW1\n",
    "        b1 = b1 - alpha * db1    \n",
    "        W2 = W2 - alpha * dW2  \n",
    "        b2 = b2 - alpha * db2    \n",
    "        return W1, b1, W2, b2\n",
    "    \n",
    "    def get_predictions(A2):\n",
    "        return np.argmax(A2, 0)\n",
    "    \n",
    "    def predict(X, model):\n",
    "        _, _, _, A2 = neural_network.forward_prop(model[0], model[1], model[2], model[3], X)\n",
    "        predictions = neural_network.get_predictions(A2)\n",
    "        return predictions\n",
    "    \n",
    "    def get_accuracy(predictions, Y):\n",
    "        return np.sum(predictions == Y) / Y.size\n",
    "    \n",
    "    # Treino de modelo com Cost Function (1 - acuracia) do modelo e dos dados de teste\n",
    "    def train_wcost(X, Y, X_test, Y_test, alpha, iterations, nodes):\n",
    "        \n",
    "        cost_train = []\n",
    "        cost_test = []\n",
    "        epoch = []\n",
    "        \n",
    "        W1, b1, W2, b2 = neural_network.__init__(nodes ,X) # Cria parametros de Weight e Bias\n",
    "        \n",
    "        for i in range(iterations):\n",
    "            Z1, A1, Z2, A2 = neural_network.forward_prop(W1, b1, W2, b2, X)\n",
    "            dW1, db1, dW2, db2 = neural_network.backward_prop(Z1, A1, Z2, A2, W1, W2, X, Y)\n",
    "            W1, b1, W2, b2 = neural_network.update_params(W1, b1, W2, b2, dW1, db1, dW2, db2, alpha)\n",
    "            \n",
    "            predictions = neural_network.get_predictions(A2)\n",
    "            accuracy = neural_network.get_accuracy(predictions, Y)\n",
    "            \n",
    "            _, _, _, A2_test = neural_network.forward_prop(W1, b1, W2, b2, X_test)\n",
    "            predictions_test = neural_network.get_predictions(A2_test)\n",
    "            accuracy_test = neural_network.get_accuracy(predictions_test, Y_test)\n",
    "            \n",
    "            \n",
    "            \n",
    "            cost_train.append(1 - accuracy)\n",
    "            cost_test.append(1 - accuracy_test)\n",
    "            epoch.append(i)\n",
    "            \n",
    "            if i % 10 == 0: # Para cada 10 iterations, print\n",
    "                print(\"Iteration: \", i)\n",
    "                print(\"Train: \", 1 - accuracy)\n",
    "                print(\"Test: \", 1 - accuracy_test)\n",
    "\n",
    "        plt.plot(epoch, cost_train)\n",
    "        plt.plot(epoch, cost_test)\n",
    "        \n",
    "        return W1, b1, W2, b2, np.array(cost_train), np.array(cost_test), np.array(epoch), plt.show()\n",
    "    \n",
    "    def train(X, Y, alpha, iterations, nodes, learning_curve):\n",
    "            \n",
    "        cost = []\n",
    "        epoch = []\n",
    "        \n",
    "        W1, b1, W2, b2 = neural_network.__init__(nodes ,X) # Cria parametros de Weight e Bias\n",
    "        for i in range(1, iterations+1):\n",
    "            Z1, A1, Z2, A2 = neural_network.forward_prop(W1, b1, W2, b2, X)\n",
    "            dW1, db1, dW2, db2 = neural_network.backward_prop(Z1, A1, Z2, A2, W1, W2, X, Y)\n",
    "            W1, b1, W2, b2 = neural_network.update_params(W1, b1, W2, b2, dW1, db1, dW2, db2, alpha)\n",
    "            \n",
    "            predictions = neural_network.get_predictions(A2)\n",
    "            accuracy = neural_network.get_accuracy(predictions, Y)\n",
    "            \n",
    "            if i % 1 == 0: # Para cada 10 iterations, print\n",
    "                print(\"Iteration: \", i)\n",
    "                print(accuracy)\n",
    "                \n",
    "        return W1, b1, W2, b2"
   ]
  },
  {
   "cell_type": "code",
   "execution_count": 17,
   "id": "8594f221",
   "metadata": {
    "execution": {
     "iopub.execute_input": "2022-06-13T17:01:56.350624Z",
     "iopub.status.busy": "2022-06-13T17:01:56.349984Z",
     "iopub.status.idle": "2022-06-13T17:02:00.051393Z",
     "shell.execute_reply": "2022-06-13T17:02:00.049840Z"
    },
    "papermill": {
     "duration": 3.718102,
     "end_time": "2022-06-13T17:02:00.055647",
     "exception": false,
     "start_time": "2022-06-13T17:01:56.337545",
     "status": "completed"
    },
    "tags": []
   },
   "outputs": [
    {
     "name": "stdout",
     "output_type": "stream",
     "text": [
      "Iteration:  1\n",
      "0.09065853658536585\n",
      "Iteration:  2\n",
      "0.0913170731707317\n",
      "Iteration:  3\n",
      "0.09775609756097561\n",
      "Iteration:  4\n",
      "0.10995121951219512\n",
      "Iteration:  5\n",
      "0.12270731707317073\n",
      "Iteration:  6\n",
      "0.1373658536585366\n",
      "Iteration:  7\n",
      "0.15141463414634146\n",
      "Iteration:  8\n",
      "0.16465853658536586\n",
      "Iteration:  9\n",
      "0.17802439024390243\n",
      "Iteration:  10\n",
      "0.18997560975609756\n",
      "Iteration:  11\n",
      "0.2005609756097561\n",
      "Iteration:  12\n",
      "0.21092682926829268\n",
      "Iteration:  13\n",
      "0.2205609756097561\n",
      "Iteration:  14\n",
      "0.2302439024390244\n",
      "Iteration:  15\n",
      "0.23829268292682926\n",
      "Iteration:  16\n",
      "0.24592682926829268\n",
      "Iteration:  17\n",
      "0.2539268292682927\n",
      "Iteration:  18\n",
      "0.26290243902439026\n",
      "Iteration:  19\n",
      "0.2701707317073171\n",
      "Iteration:  20\n",
      "0.27775609756097563\n"
     ]
    },
    {
     "data": {
      "text/plain": [
       "0.28448780487804876"
      ]
     },
     "execution_count": 17,
     "metadata": {},
     "output_type": "execute_result"
    }
   ],
   "source": [
    "model = neural_network.train(X_train, Y_train, 0.15, 20, 10, False)\n",
    "predicao = neural_network.predict(X_train, model)\n",
    "neural_network.get_accuracy(predicao, Y_train)"
   ]
  },
  {
   "cell_type": "code",
   "execution_count": 18,
   "id": "1b3db6a8",
   "metadata": {
    "execution": {
     "iopub.execute_input": "2022-06-13T17:02:00.104880Z",
     "iopub.status.busy": "2022-06-13T17:02:00.104087Z",
     "iopub.status.idle": "2022-06-13T17:02:14.985185Z",
     "shell.execute_reply": "2022-06-13T17:02:14.984160Z"
    },
    "papermill": {
     "duration": 14.907885,
     "end_time": "2022-06-13T17:02:14.987489",
     "exception": false,
     "start_time": "2022-06-13T17:02:00.079604",
     "status": "completed"
    },
    "tags": []
   },
   "outputs": [
    {
     "name": "stdout",
     "output_type": "stream",
     "text": [
      "Iteration:  0\n",
      "Train:  0.930390243902439\n",
      "Test:  0.927\n",
      "Iteration:  10\n",
      "Train:  0.8274634146341464\n",
      "Test:  0.841\n",
      "Iteration:  20\n",
      "Train:  0.781609756097561\n",
      "Test:  0.789\n",
      "Iteration:  30\n",
      "Train:  0.7311463414634146\n",
      "Test:  0.728\n",
      "Iteration:  40\n",
      "Train:  0.6467317073170732\n",
      "Test:  0.64\n",
      "Iteration:  50\n",
      "Train:  0.573609756097561\n",
      "Test:  0.5740000000000001\n",
      "Iteration:  60\n",
      "Train:  0.5195853658536586\n",
      "Test:  0.524\n",
      "Iteration:  70\n",
      "Train:  0.47397560975609754\n",
      "Test:  0.482\n",
      "Iteration:  80\n",
      "Train:  0.43380487804878054\n",
      "Test:  0.43000000000000005\n",
      "Iteration:  90\n",
      "Train:  0.3984878048780488\n",
      "Test:  0.39\n"
     ]
    },
    {
     "data": {
      "image/png": "[encoded data removed]",
      "text/plain": [
       "<Figure size 432x288 with 1 Axes>"
      ]
     },
     "metadata": {
      "needs_background": "light"
     },
     "output_type": "display_data"
    }
   ],
   "source": [
    "learningcurve = neural_network.train_wcost(X_train, Y_train, X_dev, Y_dev,0.1, 100, 10)"
   ]
  }
 ],
 "metadata": {
  "kernelspec": {
   "display_name": "Python 3",
   "language": "python",
   "name": "python3"
  },
  "language_info": {
   "codemirror_mode": {
    "name": "ipython",
    "version": 3
   },
   "file_extension": ".py",
   "mimetype": "text/x-python",
   "name": "python",
   "nbconvert_exporter": "python",
   "pygments_lexer": "ipython3",
   "version": "3.7.12"
  },
  "papermill": {
   "default_parameters": {},
   "duration": 45.798684,
   "end_time": "2022-06-13T17:02:15.623301",
   "environment_variables": {},
   "exception": null,
   "input_path": "__notebook__.ipynb",
   "output_path": "__notebook__.ipynb",
   "parameters": {},
   "start_time": "2022-06-13T17:01:29.824617",
   "version": "2.3.4"
  }
 },
 "nbformat": 4,
 "nbformat_minor": 5
}
